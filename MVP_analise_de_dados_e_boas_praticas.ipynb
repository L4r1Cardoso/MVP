{
  "nbformat": 4,
  "nbformat_minor": 0,
  "metadata": {
    "colab": {
      "provenance": [],
      "authorship_tag": "ABX9TyMwl+A0wPhQ0SEOHJ/xYOwI",
      "include_colab_link": true
    },
    "kernelspec": {
      "name": "python3",
      "display_name": "Python 3"
    },
    "language_info": {
      "name": "python"
    }
  },
  "cells": [
    {
      "cell_type": "markdown",
      "metadata": {
        "id": "view-in-github",
        "colab_type": "text"
      },
      "source": [
        "<a href=\"https://colab.research.google.com/github/L4r1Cardoso/MVP/blob/main/MVP_analise_de_dados_e_boas_praticas.ipynb\" target=\"_parent\"><img src=\"https://colab.research.google.com/assets/colab-badge.svg\" alt=\"Open In Colab\"/></a>"
      ]
    },
    {
      "cell_type": "markdown",
      "source": [
        "# Definição do Problema"
      ],
      "metadata": {
        "id": "o5B6Oh6coHqW"
      }
    },
    {
      "cell_type": "markdown",
      "source": [
        "### Descrição\n",
        "\n",
        "Utilizando o dataset \"Data Science Job Salaries\" este projeto irá analisar os dados de salários para vagas de Data Science em diferentes países e contextos. Pretende-se identificar padrões que influenciam nos salários, como o nível de experiência, localização geográfica e tipo de trabalho."
      ],
      "metadata": {
        "id": "y-QKhm28ofxV"
      }
    },
    {
      "cell_type": "markdown",
      "source": [
        "### Objetivos\n",
        "- Analisar a relação entre diversos fatores (como experiência, local de trabalho, país) e o salário dos profissionais de Data Science.\n",
        "- Tipo de aprendizado: supervisionado (previsão de salários) ou não supervisionado (análise exploratória).\n",
        "- Premissas: Países desenvolvidos tendem a ter salários mais altos e cargos com maior senioridade pagam mais.\n",
        "- Restrições: O dataset pode conter valores discrepantes ou faltantes que devem ser tratados."
      ],
      "metadata": {
        "id": "5V-eD5U5xx4x"
      }
    },
    {
      "cell_type": "markdown",
      "source": [
        "### Atributos do dataset\n",
        "- `Unnamed`: id\n",
        "- `work_year`: Ano de trabalho.\n",
        "- `experience_level`: Nível de experiência (EN, MI, SE, EX).\n",
        "- `employment_type`: Tipo de contrato (full-time, part-time, etc.).\n",
        "- `job_title`: Título do cargo.\n",
        "- `salary`: Salário bruto.\n",
        "- `salary_currency`: Moeda do salário.\n",
        "- `salary_in_usd`: Salário convertido para USD.\n",
        "- `employee_residence`: País de residência do empregado.\n",
        "- `remote_ratio`: Proporção de trabalho remoto (0, 50, 100).\n",
        "- `company_location`: Localização da empresa.\n",
        "- `company_size`: Tamanho da empresa (S, M, L)."
      ],
      "metadata": {
        "id": "xl8nYfclx0VV"
      }
    },
    {
      "cell_type": "markdown",
      "source": [
        "\n",
        "\n",
        "---\n",
        "\n"
      ],
      "metadata": {
        "id": "2bAkMnukRXHz"
      }
    },
    {
      "cell_type": "markdown",
      "source": [
        "#Análise de dados"
      ],
      "metadata": {
        "id": "ylhVdTLYrvp6"
      }
    },
    {
      "cell_type": "code",
      "source": [
        "# Importando as bibliotecas: \"Pandas\", \"Matplotlib\", \"Seaborn\" e \"Numpy\"\n",
        "import pandas as pd\n",
        "from imblearn.over_sampling import SMOTE\n",
        "from collections import Counter\n",
        "import matplotlib.pyplot as plt\n",
        "import seaborn as sns\n",
        "import numpy as np\n",
        "\n",
        "# Carregando o dataset\n",
        "url = \"https://raw.githubusercontent.com/L4r1Cardoso/MVP/refs/heads/main/ds_salaries.csv\"  # link do dataset no repositório público do GitHub em formato raw\n",
        "df = pd.read_csv(url)"
      ],
      "metadata": {
        "id": "El2u-QQusWF6"
      },
      "execution_count": 41,
      "outputs": []
    },
    {
      "cell_type": "markdown",
      "source": [
        "\n",
        "\n",
        "---\n",
        "\n"
      ],
      "metadata": {
        "id": "uYL2AuzpRTtR"
      }
    },
    {
      "cell_type": "markdown",
      "source": [
        "##Estatísticas Descritivas"
      ],
      "metadata": {
        "id": "OBjY4VA7xnnZ"
      }
    },
    {
      "cell_type": "code",
      "source": [
        "# Consultando o número de linhas e colunas do dataset\n",
        "num_linhas, num_colunas = df.shape\n",
        "print(f\"O dataset contém {num_linhas} instâncias e {num_colunas} atributos.\")"
      ],
      "metadata": {
        "colab": {
          "base_uri": "https://localhost:8080/"
        },
        "id": "L5svDk9Vt8tR",
        "outputId": "a3c17eb8-1858-45b0-e6fd-fb08ed872923"
      },
      "execution_count": 10,
      "outputs": [
        {
          "output_type": "stream",
          "name": "stdout",
          "text": [
            "O dataset contém 607 instâncias e 12 atributos.\n"
          ]
        }
      ]
    },
    {
      "cell_type": "markdown",
      "source": [
        "\n",
        "\n",
        "---\n",
        "\n"
      ],
      "metadata": {
        "id": "PcW5yHidS0l2"
      }
    },
    {
      "cell_type": "code",
      "source": [
        "# Verificando o tipo de dado de cada coluna\n",
        "df.info()"
      ],
      "metadata": {
        "colab": {
          "base_uri": "https://localhost:8080/"
        },
        "id": "v7V3s9i9tUWV",
        "outputId": "a6847677-6301-4124-f864-b29e35af62c5"
      },
      "execution_count": 12,
      "outputs": [
        {
          "output_type": "stream",
          "name": "stdout",
          "text": [
            "<class 'pandas.core.frame.DataFrame'>\n",
            "RangeIndex: 607 entries, 0 to 606\n",
            "Data columns (total 12 columns):\n",
            " #   Column              Non-Null Count  Dtype \n",
            "---  ------              --------------  ----- \n",
            " 0   Unnamed: 0          607 non-null    int64 \n",
            " 1   work_year           607 non-null    int64 \n",
            " 2   experience_level    607 non-null    object\n",
            " 3   employment_type     607 non-null    object\n",
            " 4   job_title           607 non-null    object\n",
            " 5   salary              607 non-null    int64 \n",
            " 6   salary_currency     607 non-null    object\n",
            " 7   salary_in_usd       607 non-null    int64 \n",
            " 8   employee_residence  607 non-null    object\n",
            " 9   remote_ratio        607 non-null    int64 \n",
            " 10  company_location    607 non-null    object\n",
            " 11  company_size        607 non-null    object\n",
            "dtypes: int64(5), object(7)\n",
            "memory usage: 57.0+ KB\n"
          ]
        }
      ]
    },
    {
      "cell_type": "markdown",
      "source": [
        "\n",
        "\n",
        "---\n",
        "\n"
      ],
      "metadata": {
        "id": "eLApvHylS18W"
      }
    },
    {
      "cell_type": "code",
      "source": [
        "# Verificando as primeiras linhas do dataset\n",
        "df.head()"
      ],
      "metadata": {
        "colab": {
          "base_uri": "https://localhost:8080/",
          "height": 377
        },
        "id": "YkYWmn-sxAWp",
        "outputId": "35356c07-56eb-4d43-fa55-dfc4ac35bd3b"
      },
      "execution_count": 9,
      "outputs": [
        {
          "output_type": "execute_result",
          "data": {
            "text/plain": [
              "   Unnamed: 0  work_year experience_level employment_type  \\\n",
              "0           0       2020               MI              FT   \n",
              "1           1       2020               SE              FT   \n",
              "2           2       2020               SE              FT   \n",
              "3           3       2020               MI              FT   \n",
              "4           4       2020               SE              FT   \n",
              "\n",
              "                    job_title  salary salary_currency  salary_in_usd  \\\n",
              "0              Data Scientist   70000             EUR          79833   \n",
              "1  Machine Learning Scientist  260000             USD         260000   \n",
              "2           Big Data Engineer   85000             GBP         109024   \n",
              "3        Product Data Analyst   20000             USD          20000   \n",
              "4   Machine Learning Engineer  150000             USD         150000   \n",
              "\n",
              "  employee_residence  remote_ratio company_location company_size  \n",
              "0                 DE             0               DE            L  \n",
              "1                 JP             0               JP            S  \n",
              "2                 GB            50               GB            M  \n",
              "3                 HN             0               HN            S  \n",
              "4                 US            50               US            L  "
            ],
            "text/html": [
              "\n",
              "  <div id=\"df-9d433cb4-a05b-459d-83c8-0aef4673ee7a\" class=\"colab-df-container\">\n",
              "    <div>\n",
              "<style scoped>\n",
              "    .dataframe tbody tr th:only-of-type {\n",
              "        vertical-align: middle;\n",
              "    }\n",
              "\n",
              "    .dataframe tbody tr th {\n",
              "        vertical-align: top;\n",
              "    }\n",
              "\n",
              "    .dataframe thead th {\n",
              "        text-align: right;\n",
              "    }\n",
              "</style>\n",
              "<table border=\"1\" class=\"dataframe\">\n",
              "  <thead>\n",
              "    <tr style=\"text-align: right;\">\n",
              "      <th></th>\n",
              "      <th>Unnamed: 0</th>\n",
              "      <th>work_year</th>\n",
              "      <th>experience_level</th>\n",
              "      <th>employment_type</th>\n",
              "      <th>job_title</th>\n",
              "      <th>salary</th>\n",
              "      <th>salary_currency</th>\n",
              "      <th>salary_in_usd</th>\n",
              "      <th>employee_residence</th>\n",
              "      <th>remote_ratio</th>\n",
              "      <th>company_location</th>\n",
              "      <th>company_size</th>\n",
              "    </tr>\n",
              "  </thead>\n",
              "  <tbody>\n",
              "    <tr>\n",
              "      <th>0</th>\n",
              "      <td>0</td>\n",
              "      <td>2020</td>\n",
              "      <td>MI</td>\n",
              "      <td>FT</td>\n",
              "      <td>Data Scientist</td>\n",
              "      <td>70000</td>\n",
              "      <td>EUR</td>\n",
              "      <td>79833</td>\n",
              "      <td>DE</td>\n",
              "      <td>0</td>\n",
              "      <td>DE</td>\n",
              "      <td>L</td>\n",
              "    </tr>\n",
              "    <tr>\n",
              "      <th>1</th>\n",
              "      <td>1</td>\n",
              "      <td>2020</td>\n",
              "      <td>SE</td>\n",
              "      <td>FT</td>\n",
              "      <td>Machine Learning Scientist</td>\n",
              "      <td>260000</td>\n",
              "      <td>USD</td>\n",
              "      <td>260000</td>\n",
              "      <td>JP</td>\n",
              "      <td>0</td>\n",
              "      <td>JP</td>\n",
              "      <td>S</td>\n",
              "    </tr>\n",
              "    <tr>\n",
              "      <th>2</th>\n",
              "      <td>2</td>\n",
              "      <td>2020</td>\n",
              "      <td>SE</td>\n",
              "      <td>FT</td>\n",
              "      <td>Big Data Engineer</td>\n",
              "      <td>85000</td>\n",
              "      <td>GBP</td>\n",
              "      <td>109024</td>\n",
              "      <td>GB</td>\n",
              "      <td>50</td>\n",
              "      <td>GB</td>\n",
              "      <td>M</td>\n",
              "    </tr>\n",
              "    <tr>\n",
              "      <th>3</th>\n",
              "      <td>3</td>\n",
              "      <td>2020</td>\n",
              "      <td>MI</td>\n",
              "      <td>FT</td>\n",
              "      <td>Product Data Analyst</td>\n",
              "      <td>20000</td>\n",
              "      <td>USD</td>\n",
              "      <td>20000</td>\n",
              "      <td>HN</td>\n",
              "      <td>0</td>\n",
              "      <td>HN</td>\n",
              "      <td>S</td>\n",
              "    </tr>\n",
              "    <tr>\n",
              "      <th>4</th>\n",
              "      <td>4</td>\n",
              "      <td>2020</td>\n",
              "      <td>SE</td>\n",
              "      <td>FT</td>\n",
              "      <td>Machine Learning Engineer</td>\n",
              "      <td>150000</td>\n",
              "      <td>USD</td>\n",
              "      <td>150000</td>\n",
              "      <td>US</td>\n",
              "      <td>50</td>\n",
              "      <td>US</td>\n",
              "      <td>L</td>\n",
              "    </tr>\n",
              "  </tbody>\n",
              "</table>\n",
              "</div>\n",
              "    <div class=\"colab-df-buttons\">\n",
              "\n",
              "  <div class=\"colab-df-container\">\n",
              "    <button class=\"colab-df-convert\" onclick=\"convertToInteractive('df-9d433cb4-a05b-459d-83c8-0aef4673ee7a')\"\n",
              "            title=\"Convert this dataframe to an interactive table.\"\n",
              "            style=\"display:none;\">\n",
              "\n",
              "  <svg xmlns=\"http://www.w3.org/2000/svg\" height=\"24px\" viewBox=\"0 -960 960 960\">\n",
              "    <path d=\"M120-120v-720h720v720H120Zm60-500h600v-160H180v160Zm220 220h160v-160H400v160Zm0 220h160v-160H400v160ZM180-400h160v-160H180v160Zm440 0h160v-160H620v160ZM180-180h160v-160H180v160Zm440 0h160v-160H620v160Z\"/>\n",
              "  </svg>\n",
              "    </button>\n",
              "\n",
              "  <style>\n",
              "    .colab-df-container {\n",
              "      display:flex;\n",
              "      gap: 12px;\n",
              "    }\n",
              "\n",
              "    .colab-df-convert {\n",
              "      background-color: #E8F0FE;\n",
              "      border: none;\n",
              "      border-radius: 50%;\n",
              "      cursor: pointer;\n",
              "      display: none;\n",
              "      fill: #1967D2;\n",
              "      height: 32px;\n",
              "      padding: 0 0 0 0;\n",
              "      width: 32px;\n",
              "    }\n",
              "\n",
              "    .colab-df-convert:hover {\n",
              "      background-color: #E2EBFA;\n",
              "      box-shadow: 0px 1px 2px rgba(60, 64, 67, 0.3), 0px 1px 3px 1px rgba(60, 64, 67, 0.15);\n",
              "      fill: #174EA6;\n",
              "    }\n",
              "\n",
              "    .colab-df-buttons div {\n",
              "      margin-bottom: 4px;\n",
              "    }\n",
              "\n",
              "    [theme=dark] .colab-df-convert {\n",
              "      background-color: #3B4455;\n",
              "      fill: #D2E3FC;\n",
              "    }\n",
              "\n",
              "    [theme=dark] .colab-df-convert:hover {\n",
              "      background-color: #434B5C;\n",
              "      box-shadow: 0px 1px 3px 1px rgba(0, 0, 0, 0.15);\n",
              "      filter: drop-shadow(0px 1px 2px rgba(0, 0, 0, 0.3));\n",
              "      fill: #FFFFFF;\n",
              "    }\n",
              "  </style>\n",
              "\n",
              "    <script>\n",
              "      const buttonEl =\n",
              "        document.querySelector('#df-9d433cb4-a05b-459d-83c8-0aef4673ee7a button.colab-df-convert');\n",
              "      buttonEl.style.display =\n",
              "        google.colab.kernel.accessAllowed ? 'block' : 'none';\n",
              "\n",
              "      async function convertToInteractive(key) {\n",
              "        const element = document.querySelector('#df-9d433cb4-a05b-459d-83c8-0aef4673ee7a');\n",
              "        const dataTable =\n",
              "          await google.colab.kernel.invokeFunction('convertToInteractive',\n",
              "                                                    [key], {});\n",
              "        if (!dataTable) return;\n",
              "\n",
              "        const docLinkHtml = 'Like what you see? Visit the ' +\n",
              "          '<a target=\"_blank\" href=https://colab.research.google.com/notebooks/data_table.ipynb>data table notebook</a>'\n",
              "          + ' to learn more about interactive tables.';\n",
              "        element.innerHTML = '';\n",
              "        dataTable['output_type'] = 'display_data';\n",
              "        await google.colab.output.renderOutput(dataTable, element);\n",
              "        const docLink = document.createElement('div');\n",
              "        docLink.innerHTML = docLinkHtml;\n",
              "        element.appendChild(docLink);\n",
              "      }\n",
              "    </script>\n",
              "  </div>\n",
              "\n",
              "\n",
              "<div id=\"df-8201f19b-cb26-4c39-8241-5d3409b3f3b8\">\n",
              "  <button class=\"colab-df-quickchart\" onclick=\"quickchart('df-8201f19b-cb26-4c39-8241-5d3409b3f3b8')\"\n",
              "            title=\"Suggest charts\"\n",
              "            style=\"display:none;\">\n",
              "\n",
              "<svg xmlns=\"http://www.w3.org/2000/svg\" height=\"24px\"viewBox=\"0 0 24 24\"\n",
              "     width=\"24px\">\n",
              "    <g>\n",
              "        <path d=\"M19 3H5c-1.1 0-2 .9-2 2v14c0 1.1.9 2 2 2h14c1.1 0 2-.9 2-2V5c0-1.1-.9-2-2-2zM9 17H7v-7h2v7zm4 0h-2V7h2v10zm4 0h-2v-4h2v4z\"/>\n",
              "    </g>\n",
              "</svg>\n",
              "  </button>\n",
              "\n",
              "<style>\n",
              "  .colab-df-quickchart {\n",
              "      --bg-color: #E8F0FE;\n",
              "      --fill-color: #1967D2;\n",
              "      --hover-bg-color: #E2EBFA;\n",
              "      --hover-fill-color: #174EA6;\n",
              "      --disabled-fill-color: #AAA;\n",
              "      --disabled-bg-color: #DDD;\n",
              "  }\n",
              "\n",
              "  [theme=dark] .colab-df-quickchart {\n",
              "      --bg-color: #3B4455;\n",
              "      --fill-color: #D2E3FC;\n",
              "      --hover-bg-color: #434B5C;\n",
              "      --hover-fill-color: #FFFFFF;\n",
              "      --disabled-bg-color: #3B4455;\n",
              "      --disabled-fill-color: #666;\n",
              "  }\n",
              "\n",
              "  .colab-df-quickchart {\n",
              "    background-color: var(--bg-color);\n",
              "    border: none;\n",
              "    border-radius: 50%;\n",
              "    cursor: pointer;\n",
              "    display: none;\n",
              "    fill: var(--fill-color);\n",
              "    height: 32px;\n",
              "    padding: 0;\n",
              "    width: 32px;\n",
              "  }\n",
              "\n",
              "  .colab-df-quickchart:hover {\n",
              "    background-color: var(--hover-bg-color);\n",
              "    box-shadow: 0 1px 2px rgba(60, 64, 67, 0.3), 0 1px 3px 1px rgba(60, 64, 67, 0.15);\n",
              "    fill: var(--button-hover-fill-color);\n",
              "  }\n",
              "\n",
              "  .colab-df-quickchart-complete:disabled,\n",
              "  .colab-df-quickchart-complete:disabled:hover {\n",
              "    background-color: var(--disabled-bg-color);\n",
              "    fill: var(--disabled-fill-color);\n",
              "    box-shadow: none;\n",
              "  }\n",
              "\n",
              "  .colab-df-spinner {\n",
              "    border: 2px solid var(--fill-color);\n",
              "    border-color: transparent;\n",
              "    border-bottom-color: var(--fill-color);\n",
              "    animation:\n",
              "      spin 1s steps(1) infinite;\n",
              "  }\n",
              "\n",
              "  @keyframes spin {\n",
              "    0% {\n",
              "      border-color: transparent;\n",
              "      border-bottom-color: var(--fill-color);\n",
              "      border-left-color: var(--fill-color);\n",
              "    }\n",
              "    20% {\n",
              "      border-color: transparent;\n",
              "      border-left-color: var(--fill-color);\n",
              "      border-top-color: var(--fill-color);\n",
              "    }\n",
              "    30% {\n",
              "      border-color: transparent;\n",
              "      border-left-color: var(--fill-color);\n",
              "      border-top-color: var(--fill-color);\n",
              "      border-right-color: var(--fill-color);\n",
              "    }\n",
              "    40% {\n",
              "      border-color: transparent;\n",
              "      border-right-color: var(--fill-color);\n",
              "      border-top-color: var(--fill-color);\n",
              "    }\n",
              "    60% {\n",
              "      border-color: transparent;\n",
              "      border-right-color: var(--fill-color);\n",
              "    }\n",
              "    80% {\n",
              "      border-color: transparent;\n",
              "      border-right-color: var(--fill-color);\n",
              "      border-bottom-color: var(--fill-color);\n",
              "    }\n",
              "    90% {\n",
              "      border-color: transparent;\n",
              "      border-bottom-color: var(--fill-color);\n",
              "    }\n",
              "  }\n",
              "</style>\n",
              "\n",
              "  <script>\n",
              "    async function quickchart(key) {\n",
              "      const quickchartButtonEl =\n",
              "        document.querySelector('#' + key + ' button');\n",
              "      quickchartButtonEl.disabled = true;  // To prevent multiple clicks.\n",
              "      quickchartButtonEl.classList.add('colab-df-spinner');\n",
              "      try {\n",
              "        const charts = await google.colab.kernel.invokeFunction(\n",
              "            'suggestCharts', [key], {});\n",
              "      } catch (error) {\n",
              "        console.error('Error during call to suggestCharts:', error);\n",
              "      }\n",
              "      quickchartButtonEl.classList.remove('colab-df-spinner');\n",
              "      quickchartButtonEl.classList.add('colab-df-quickchart-complete');\n",
              "    }\n",
              "    (() => {\n",
              "      let quickchartButtonEl =\n",
              "        document.querySelector('#df-8201f19b-cb26-4c39-8241-5d3409b3f3b8 button');\n",
              "      quickchartButtonEl.style.display =\n",
              "        google.colab.kernel.accessAllowed ? 'block' : 'none';\n",
              "    })();\n",
              "  </script>\n",
              "</div>\n",
              "\n",
              "    </div>\n",
              "  </div>\n"
            ],
            "application/vnd.google.colaboratory.intrinsic+json": {
              "type": "dataframe",
              "variable_name": "df",
              "summary": "{\n  \"name\": \"df\",\n  \"rows\": 607,\n  \"fields\": [\n    {\n      \"column\": \"Unnamed: 0\",\n      \"properties\": {\n        \"dtype\": \"number\",\n        \"std\": 175,\n        \"min\": 0,\n        \"max\": 606,\n        \"num_unique_values\": 607,\n        \"samples\": [\n          563,\n          289,\n          76\n        ],\n        \"semantic_type\": \"\",\n        \"description\": \"\"\n      }\n    },\n    {\n      \"column\": \"work_year\",\n      \"properties\": {\n        \"dtype\": \"number\",\n        \"std\": 0,\n        \"min\": 2020,\n        \"max\": 2022,\n        \"num_unique_values\": 3,\n        \"samples\": [\n          2020,\n          2021,\n          2022\n        ],\n        \"semantic_type\": \"\",\n        \"description\": \"\"\n      }\n    },\n    {\n      \"column\": \"experience_level\",\n      \"properties\": {\n        \"dtype\": \"category\",\n        \"num_unique_values\": 4,\n        \"samples\": [\n          \"SE\",\n          \"EX\",\n          \"MI\"\n        ],\n        \"semantic_type\": \"\",\n        \"description\": \"\"\n      }\n    },\n    {\n      \"column\": \"employment_type\",\n      \"properties\": {\n        \"dtype\": \"category\",\n        \"num_unique_values\": 4,\n        \"samples\": [\n          \"CT\",\n          \"FL\",\n          \"FT\"\n        ],\n        \"semantic_type\": \"\",\n        \"description\": \"\"\n      }\n    },\n    {\n      \"column\": \"job_title\",\n      \"properties\": {\n        \"dtype\": \"category\",\n        \"num_unique_values\": 50,\n        \"samples\": [\n          \"Director of Data Science\",\n          \"Data Architect\",\n          \"Computer Vision Software Engineer\"\n        ],\n        \"semantic_type\": \"\",\n        \"description\": \"\"\n      }\n    },\n    {\n      \"column\": \"salary\",\n      \"properties\": {\n        \"dtype\": \"number\",\n        \"std\": 1544357,\n        \"min\": 4000,\n        \"max\": 30400000,\n        \"num_unique_values\": 272,\n        \"samples\": [\n          65000,\n          18000,\n          82500\n        ],\n        \"semantic_type\": \"\",\n        \"description\": \"\"\n      }\n    },\n    {\n      \"column\": \"salary_currency\",\n      \"properties\": {\n        \"dtype\": \"category\",\n        \"num_unique_values\": 17,\n        \"samples\": [\n          \"EUR\",\n          \"USD\",\n          \"JPY\"\n        ],\n        \"semantic_type\": \"\",\n        \"description\": \"\"\n      }\n    },\n    {\n      \"column\": \"salary_in_usd\",\n      \"properties\": {\n        \"dtype\": \"number\",\n        \"std\": 70957,\n        \"min\": 2859,\n        \"max\": 600000,\n        \"num_unique_values\": 369,\n        \"samples\": [\n          64849,\n          450000,\n          8000\n        ],\n        \"semantic_type\": \"\",\n        \"description\": \"\"\n      }\n    },\n    {\n      \"column\": \"employee_residence\",\n      \"properties\": {\n        \"dtype\": \"category\",\n        \"num_unique_values\": 57,\n        \"samples\": [\n          \"DE\",\n          \"HU\",\n          \"VN\"\n        ],\n        \"semantic_type\": \"\",\n        \"description\": \"\"\n      }\n    },\n    {\n      \"column\": \"remote_ratio\",\n      \"properties\": {\n        \"dtype\": \"number\",\n        \"std\": 40,\n        \"min\": 0,\n        \"max\": 100,\n        \"num_unique_values\": 3,\n        \"samples\": [\n          0,\n          50,\n          100\n        ],\n        \"semantic_type\": \"\",\n        \"description\": \"\"\n      }\n    },\n    {\n      \"column\": \"company_location\",\n      \"properties\": {\n        \"dtype\": \"category\",\n        \"num_unique_values\": 50,\n        \"samples\": [\n          \"NL\",\n          \"SI\",\n          \"UA\"\n        ],\n        \"semantic_type\": \"\",\n        \"description\": \"\"\n      }\n    },\n    {\n      \"column\": \"company_size\",\n      \"properties\": {\n        \"dtype\": \"category\",\n        \"num_unique_values\": 3,\n        \"samples\": [\n          \"L\",\n          \"S\",\n          \"M\"\n        ],\n        \"semantic_type\": \"\",\n        \"description\": \"\"\n      }\n    }\n  ]\n}"
            }
          },
          "metadata": {},
          "execution_count": 9
        }
      ]
    },
    {
      "cell_type": "markdown",
      "source": [
        "\n",
        "\n",
        "---\n",
        "\n"
      ],
      "metadata": {
        "id": "Apt9NCfZS38f"
      }
    },
    {
      "cell_type": "code",
      "source": [
        "# Verificando estatísticas descritivas das colunas numéricas\n",
        "df.describe()"
      ],
      "metadata": {
        "colab": {
          "base_uri": "https://localhost:8080/",
          "height": 297
        },
        "id": "X3W3KHtbzbf0",
        "outputId": "0cb99968-1f33-41f8-e699-147803dd297a"
      },
      "execution_count": 13,
      "outputs": [
        {
          "output_type": "execute_result",
          "data": {
            "text/plain": [
              "       Unnamed: 0    work_year        salary  salary_in_usd  remote_ratio\n",
              "count  607.000000   607.000000  6.070000e+02     607.000000     607.00000\n",
              "mean   303.000000  2021.405272  3.240001e+05  112297.869852      70.92257\n",
              "std    175.370085     0.692133  1.544357e+06   70957.259411      40.70913\n",
              "min      0.000000  2020.000000  4.000000e+03    2859.000000       0.00000\n",
              "25%    151.500000  2021.000000  7.000000e+04   62726.000000      50.00000\n",
              "50%    303.000000  2022.000000  1.150000e+05  101570.000000     100.00000\n",
              "75%    454.500000  2022.000000  1.650000e+05  150000.000000     100.00000\n",
              "max    606.000000  2022.000000  3.040000e+07  600000.000000     100.00000"
            ],
            "text/html": [
              "\n",
              "  <div id=\"df-51980e87-4607-4887-8771-c4e750304998\" class=\"colab-df-container\">\n",
              "    <div>\n",
              "<style scoped>\n",
              "    .dataframe tbody tr th:only-of-type {\n",
              "        vertical-align: middle;\n",
              "    }\n",
              "\n",
              "    .dataframe tbody tr th {\n",
              "        vertical-align: top;\n",
              "    }\n",
              "\n",
              "    .dataframe thead th {\n",
              "        text-align: right;\n",
              "    }\n",
              "</style>\n",
              "<table border=\"1\" class=\"dataframe\">\n",
              "  <thead>\n",
              "    <tr style=\"text-align: right;\">\n",
              "      <th></th>\n",
              "      <th>Unnamed: 0</th>\n",
              "      <th>work_year</th>\n",
              "      <th>salary</th>\n",
              "      <th>salary_in_usd</th>\n",
              "      <th>remote_ratio</th>\n",
              "    </tr>\n",
              "  </thead>\n",
              "  <tbody>\n",
              "    <tr>\n",
              "      <th>count</th>\n",
              "      <td>607.000000</td>\n",
              "      <td>607.000000</td>\n",
              "      <td>6.070000e+02</td>\n",
              "      <td>607.000000</td>\n",
              "      <td>607.00000</td>\n",
              "    </tr>\n",
              "    <tr>\n",
              "      <th>mean</th>\n",
              "      <td>303.000000</td>\n",
              "      <td>2021.405272</td>\n",
              "      <td>3.240001e+05</td>\n",
              "      <td>112297.869852</td>\n",
              "      <td>70.92257</td>\n",
              "    </tr>\n",
              "    <tr>\n",
              "      <th>std</th>\n",
              "      <td>175.370085</td>\n",
              "      <td>0.692133</td>\n",
              "      <td>1.544357e+06</td>\n",
              "      <td>70957.259411</td>\n",
              "      <td>40.70913</td>\n",
              "    </tr>\n",
              "    <tr>\n",
              "      <th>min</th>\n",
              "      <td>0.000000</td>\n",
              "      <td>2020.000000</td>\n",
              "      <td>4.000000e+03</td>\n",
              "      <td>2859.000000</td>\n",
              "      <td>0.00000</td>\n",
              "    </tr>\n",
              "    <tr>\n",
              "      <th>25%</th>\n",
              "      <td>151.500000</td>\n",
              "      <td>2021.000000</td>\n",
              "      <td>7.000000e+04</td>\n",
              "      <td>62726.000000</td>\n",
              "      <td>50.00000</td>\n",
              "    </tr>\n",
              "    <tr>\n",
              "      <th>50%</th>\n",
              "      <td>303.000000</td>\n",
              "      <td>2022.000000</td>\n",
              "      <td>1.150000e+05</td>\n",
              "      <td>101570.000000</td>\n",
              "      <td>100.00000</td>\n",
              "    </tr>\n",
              "    <tr>\n",
              "      <th>75%</th>\n",
              "      <td>454.500000</td>\n",
              "      <td>2022.000000</td>\n",
              "      <td>1.650000e+05</td>\n",
              "      <td>150000.000000</td>\n",
              "      <td>100.00000</td>\n",
              "    </tr>\n",
              "    <tr>\n",
              "      <th>max</th>\n",
              "      <td>606.000000</td>\n",
              "      <td>2022.000000</td>\n",
              "      <td>3.040000e+07</td>\n",
              "      <td>600000.000000</td>\n",
              "      <td>100.00000</td>\n",
              "    </tr>\n",
              "  </tbody>\n",
              "</table>\n",
              "</div>\n",
              "    <div class=\"colab-df-buttons\">\n",
              "\n",
              "  <div class=\"colab-df-container\">\n",
              "    <button class=\"colab-df-convert\" onclick=\"convertToInteractive('df-51980e87-4607-4887-8771-c4e750304998')\"\n",
              "            title=\"Convert this dataframe to an interactive table.\"\n",
              "            style=\"display:none;\">\n",
              "\n",
              "  <svg xmlns=\"http://www.w3.org/2000/svg\" height=\"24px\" viewBox=\"0 -960 960 960\">\n",
              "    <path d=\"M120-120v-720h720v720H120Zm60-500h600v-160H180v160Zm220 220h160v-160H400v160Zm0 220h160v-160H400v160ZM180-400h160v-160H180v160Zm440 0h160v-160H620v160ZM180-180h160v-160H180v160Zm440 0h160v-160H620v160Z\"/>\n",
              "  </svg>\n",
              "    </button>\n",
              "\n",
              "  <style>\n",
              "    .colab-df-container {\n",
              "      display:flex;\n",
              "      gap: 12px;\n",
              "    }\n",
              "\n",
              "    .colab-df-convert {\n",
              "      background-color: #E8F0FE;\n",
              "      border: none;\n",
              "      border-radius: 50%;\n",
              "      cursor: pointer;\n",
              "      display: none;\n",
              "      fill: #1967D2;\n",
              "      height: 32px;\n",
              "      padding: 0 0 0 0;\n",
              "      width: 32px;\n",
              "    }\n",
              "\n",
              "    .colab-df-convert:hover {\n",
              "      background-color: #E2EBFA;\n",
              "      box-shadow: 0px 1px 2px rgba(60, 64, 67, 0.3), 0px 1px 3px 1px rgba(60, 64, 67, 0.15);\n",
              "      fill: #174EA6;\n",
              "    }\n",
              "\n",
              "    .colab-df-buttons div {\n",
              "      margin-bottom: 4px;\n",
              "    }\n",
              "\n",
              "    [theme=dark] .colab-df-convert {\n",
              "      background-color: #3B4455;\n",
              "      fill: #D2E3FC;\n",
              "    }\n",
              "\n",
              "    [theme=dark] .colab-df-convert:hover {\n",
              "      background-color: #434B5C;\n",
              "      box-shadow: 0px 1px 3px 1px rgba(0, 0, 0, 0.15);\n",
              "      filter: drop-shadow(0px 1px 2px rgba(0, 0, 0, 0.3));\n",
              "      fill: #FFFFFF;\n",
              "    }\n",
              "  </style>\n",
              "\n",
              "    <script>\n",
              "      const buttonEl =\n",
              "        document.querySelector('#df-51980e87-4607-4887-8771-c4e750304998 button.colab-df-convert');\n",
              "      buttonEl.style.display =\n",
              "        google.colab.kernel.accessAllowed ? 'block' : 'none';\n",
              "\n",
              "      async function convertToInteractive(key) {\n",
              "        const element = document.querySelector('#df-51980e87-4607-4887-8771-c4e750304998');\n",
              "        const dataTable =\n",
              "          await google.colab.kernel.invokeFunction('convertToInteractive',\n",
              "                                                    [key], {});\n",
              "        if (!dataTable) return;\n",
              "\n",
              "        const docLinkHtml = 'Like what you see? Visit the ' +\n",
              "          '<a target=\"_blank\" href=https://colab.research.google.com/notebooks/data_table.ipynb>data table notebook</a>'\n",
              "          + ' to learn more about interactive tables.';\n",
              "        element.innerHTML = '';\n",
              "        dataTable['output_type'] = 'display_data';\n",
              "        await google.colab.output.renderOutput(dataTable, element);\n",
              "        const docLink = document.createElement('div');\n",
              "        docLink.innerHTML = docLinkHtml;\n",
              "        element.appendChild(docLink);\n",
              "      }\n",
              "    </script>\n",
              "  </div>\n",
              "\n",
              "\n",
              "<div id=\"df-9b0af335-76e1-4fae-a415-efaff9d05249\">\n",
              "  <button class=\"colab-df-quickchart\" onclick=\"quickchart('df-9b0af335-76e1-4fae-a415-efaff9d05249')\"\n",
              "            title=\"Suggest charts\"\n",
              "            style=\"display:none;\">\n",
              "\n",
              "<svg xmlns=\"http://www.w3.org/2000/svg\" height=\"24px\"viewBox=\"0 0 24 24\"\n",
              "     width=\"24px\">\n",
              "    <g>\n",
              "        <path d=\"M19 3H5c-1.1 0-2 .9-2 2v14c0 1.1.9 2 2 2h14c1.1 0 2-.9 2-2V5c0-1.1-.9-2-2-2zM9 17H7v-7h2v7zm4 0h-2V7h2v10zm4 0h-2v-4h2v4z\"/>\n",
              "    </g>\n",
              "</svg>\n",
              "  </button>\n",
              "\n",
              "<style>\n",
              "  .colab-df-quickchart {\n",
              "      --bg-color: #E8F0FE;\n",
              "      --fill-color: #1967D2;\n",
              "      --hover-bg-color: #E2EBFA;\n",
              "      --hover-fill-color: #174EA6;\n",
              "      --disabled-fill-color: #AAA;\n",
              "      --disabled-bg-color: #DDD;\n",
              "  }\n",
              "\n",
              "  [theme=dark] .colab-df-quickchart {\n",
              "      --bg-color: #3B4455;\n",
              "      --fill-color: #D2E3FC;\n",
              "      --hover-bg-color: #434B5C;\n",
              "      --hover-fill-color: #FFFFFF;\n",
              "      --disabled-bg-color: #3B4455;\n",
              "      --disabled-fill-color: #666;\n",
              "  }\n",
              "\n",
              "  .colab-df-quickchart {\n",
              "    background-color: var(--bg-color);\n",
              "    border: none;\n",
              "    border-radius: 50%;\n",
              "    cursor: pointer;\n",
              "    display: none;\n",
              "    fill: var(--fill-color);\n",
              "    height: 32px;\n",
              "    padding: 0;\n",
              "    width: 32px;\n",
              "  }\n",
              "\n",
              "  .colab-df-quickchart:hover {\n",
              "    background-color: var(--hover-bg-color);\n",
              "    box-shadow: 0 1px 2px rgba(60, 64, 67, 0.3), 0 1px 3px 1px rgba(60, 64, 67, 0.15);\n",
              "    fill: var(--button-hover-fill-color);\n",
              "  }\n",
              "\n",
              "  .colab-df-quickchart-complete:disabled,\n",
              "  .colab-df-quickchart-complete:disabled:hover {\n",
              "    background-color: var(--disabled-bg-color);\n",
              "    fill: var(--disabled-fill-color);\n",
              "    box-shadow: none;\n",
              "  }\n",
              "\n",
              "  .colab-df-spinner {\n",
              "    border: 2px solid var(--fill-color);\n",
              "    border-color: transparent;\n",
              "    border-bottom-color: var(--fill-color);\n",
              "    animation:\n",
              "      spin 1s steps(1) infinite;\n",
              "  }\n",
              "\n",
              "  @keyframes spin {\n",
              "    0% {\n",
              "      border-color: transparent;\n",
              "      border-bottom-color: var(--fill-color);\n",
              "      border-left-color: var(--fill-color);\n",
              "    }\n",
              "    20% {\n",
              "      border-color: transparent;\n",
              "      border-left-color: var(--fill-color);\n",
              "      border-top-color: var(--fill-color);\n",
              "    }\n",
              "    30% {\n",
              "      border-color: transparent;\n",
              "      border-left-color: var(--fill-color);\n",
              "      border-top-color: var(--fill-color);\n",
              "      border-right-color: var(--fill-color);\n",
              "    }\n",
              "    40% {\n",
              "      border-color: transparent;\n",
              "      border-right-color: var(--fill-color);\n",
              "      border-top-color: var(--fill-color);\n",
              "    }\n",
              "    60% {\n",
              "      border-color: transparent;\n",
              "      border-right-color: var(--fill-color);\n",
              "    }\n",
              "    80% {\n",
              "      border-color: transparent;\n",
              "      border-right-color: var(--fill-color);\n",
              "      border-bottom-color: var(--fill-color);\n",
              "    }\n",
              "    90% {\n",
              "      border-color: transparent;\n",
              "      border-bottom-color: var(--fill-color);\n",
              "    }\n",
              "  }\n",
              "</style>\n",
              "\n",
              "  <script>\n",
              "    async function quickchart(key) {\n",
              "      const quickchartButtonEl =\n",
              "        document.querySelector('#' + key + ' button');\n",
              "      quickchartButtonEl.disabled = true;  // To prevent multiple clicks.\n",
              "      quickchartButtonEl.classList.add('colab-df-spinner');\n",
              "      try {\n",
              "        const charts = await google.colab.kernel.invokeFunction(\n",
              "            'suggestCharts', [key], {});\n",
              "      } catch (error) {\n",
              "        console.error('Error during call to suggestCharts:', error);\n",
              "      }\n",
              "      quickchartButtonEl.classList.remove('colab-df-spinner');\n",
              "      quickchartButtonEl.classList.add('colab-df-quickchart-complete');\n",
              "    }\n",
              "    (() => {\n",
              "      let quickchartButtonEl =\n",
              "        document.querySelector('#df-9b0af335-76e1-4fae-a415-efaff9d05249 button');\n",
              "      quickchartButtonEl.style.display =\n",
              "        google.colab.kernel.accessAllowed ? 'block' : 'none';\n",
              "    })();\n",
              "  </script>\n",
              "</div>\n",
              "\n",
              "    </div>\n",
              "  </div>\n"
            ],
            "application/vnd.google.colaboratory.intrinsic+json": {
              "type": "dataframe",
              "summary": "{\n  \"name\": \"df\",\n  \"rows\": 8,\n  \"fields\": [\n    {\n      \"column\": \"Unnamed: 0\",\n      \"properties\": {\n        \"dtype\": \"number\",\n        \"std\": 218.54701827622802,\n        \"min\": 0.0,\n        \"max\": 607.0,\n        \"num_unique_values\": 7,\n        \"samples\": [\n          607.0,\n          303.0,\n          454.5\n        ],\n        \"semantic_type\": \"\",\n        \"description\": \"\"\n      }\n    },\n    {\n      \"column\": \"work_year\",\n      \"properties\": {\n        \"dtype\": \"number\",\n        \"std\": 811.4184770168733,\n        \"min\": 0.692132985452652,\n        \"max\": 2022.0,\n        \"num_unique_values\": 6,\n        \"samples\": [\n          607.0,\n          2021.4052718286655,\n          2022.0\n        ],\n        \"semantic_type\": \"\",\n        \"description\": \"\"\n      }\n    },\n    {\n      \"column\": \"salary\",\n      \"properties\": {\n        \"dtype\": \"number\",\n        \"std\": 10648025.675199354,\n        \"min\": 607.0,\n        \"max\": 30400000.0,\n        \"num_unique_values\": 8,\n        \"samples\": [\n          324000.0626029654,\n          115000.0,\n          607.0\n        ],\n        \"semantic_type\": \"\",\n        \"description\": \"\"\n      }\n    },\n    {\n      \"column\": \"salary_in_usd\",\n      \"properties\": {\n        \"dtype\": \"number\",\n        \"std\": 193787.60931791147,\n        \"min\": 607.0,\n        \"max\": 600000.0,\n        \"num_unique_values\": 8,\n        \"samples\": [\n          112297.86985172982,\n          101570.0,\n          607.0\n        ],\n        \"semantic_type\": \"\",\n        \"description\": \"\"\n      }\n    },\n    {\n      \"column\": \"remote_ratio\",\n      \"properties\": {\n        \"dtype\": \"number\",\n        \"std\": 194.52856213736524,\n        \"min\": 0.0,\n        \"max\": 607.0,\n        \"num_unique_values\": 6,\n        \"samples\": [\n          607.0,\n          70.92257001647447,\n          100.0\n        ],\n        \"semantic_type\": \"\",\n        \"description\": \"\"\n      }\n    }\n  ]\n}"
            }
          },
          "metadata": {},
          "execution_count": 13
        }
      ]
    },
    {
      "cell_type": "markdown",
      "source": [
        "\n",
        "\n",
        "---\n",
        "\n"
      ],
      "metadata": {
        "id": "Loq82N4lS447"
      }
    },
    {
      "cell_type": "code",
      "source": [
        "# Verificando se há valores faltantes\n",
        "df.isnull().sum()\n"
      ],
      "metadata": {
        "colab": {
          "base_uri": "https://localhost:8080/",
          "height": 455
        },
        "id": "nCYvNic0z00b",
        "outputId": "da224059-79cb-4e51-c606-5de6fd2511df"
      },
      "execution_count": 14,
      "outputs": [
        {
          "output_type": "execute_result",
          "data": {
            "text/plain": [
              "Unnamed: 0            0\n",
              "work_year             0\n",
              "experience_level      0\n",
              "employment_type       0\n",
              "job_title             0\n",
              "salary                0\n",
              "salary_currency       0\n",
              "salary_in_usd         0\n",
              "employee_residence    0\n",
              "remote_ratio          0\n",
              "company_location      0\n",
              "company_size          0\n",
              "dtype: int64"
            ],
            "text/html": [
              "<div>\n",
              "<style scoped>\n",
              "    .dataframe tbody tr th:only-of-type {\n",
              "        vertical-align: middle;\n",
              "    }\n",
              "\n",
              "    .dataframe tbody tr th {\n",
              "        vertical-align: top;\n",
              "    }\n",
              "\n",
              "    .dataframe thead th {\n",
              "        text-align: right;\n",
              "    }\n",
              "</style>\n",
              "<table border=\"1\" class=\"dataframe\">\n",
              "  <thead>\n",
              "    <tr style=\"text-align: right;\">\n",
              "      <th></th>\n",
              "      <th>0</th>\n",
              "    </tr>\n",
              "  </thead>\n",
              "  <tbody>\n",
              "    <tr>\n",
              "      <th>Unnamed: 0</th>\n",
              "      <td>0</td>\n",
              "    </tr>\n",
              "    <tr>\n",
              "      <th>work_year</th>\n",
              "      <td>0</td>\n",
              "    </tr>\n",
              "    <tr>\n",
              "      <th>experience_level</th>\n",
              "      <td>0</td>\n",
              "    </tr>\n",
              "    <tr>\n",
              "      <th>employment_type</th>\n",
              "      <td>0</td>\n",
              "    </tr>\n",
              "    <tr>\n",
              "      <th>job_title</th>\n",
              "      <td>0</td>\n",
              "    </tr>\n",
              "    <tr>\n",
              "      <th>salary</th>\n",
              "      <td>0</td>\n",
              "    </tr>\n",
              "    <tr>\n",
              "      <th>salary_currency</th>\n",
              "      <td>0</td>\n",
              "    </tr>\n",
              "    <tr>\n",
              "      <th>salary_in_usd</th>\n",
              "      <td>0</td>\n",
              "    </tr>\n",
              "    <tr>\n",
              "      <th>employee_residence</th>\n",
              "      <td>0</td>\n",
              "    </tr>\n",
              "    <tr>\n",
              "      <th>remote_ratio</th>\n",
              "      <td>0</td>\n",
              "    </tr>\n",
              "    <tr>\n",
              "      <th>company_location</th>\n",
              "      <td>0</td>\n",
              "    </tr>\n",
              "    <tr>\n",
              "      <th>company_size</th>\n",
              "      <td>0</td>\n",
              "    </tr>\n",
              "  </tbody>\n",
              "</table>\n",
              "</div><br><label><b>dtype:</b> int64</label>"
            ]
          },
          "metadata": {},
          "execution_count": 14
        }
      ]
    },
    {
      "cell_type": "markdown",
      "source": [
        "\n",
        "\n",
        "---\n",
        "\n"
      ],
      "metadata": {
        "id": "n-ez5F3iS5-u"
      }
    },
    {
      "cell_type": "code",
      "source": [
        "# Filtrando apenas as colunas numéricas\n",
        "numeric_cols = df.select_dtypes(include=['float64', 'int64']).columns\n",
        "\n",
        "# Resumo estatístico\n",
        "summary = df[numeric_cols].describe().T  # Transpondo para melhor visualização\n",
        "\n",
        "# Calculando a mediana, moda e número de valores ausentes\n",
        "summary['median'] = df[numeric_cols].median()\n",
        "summary['mode'] = df[numeric_cols].mode().iloc[0]  # A primeira moda\n",
        "summary['missing_values'] = df[numeric_cols].isnull().sum()\n",
        "\n",
        "# Selecionando apenas as colunas numéricas\n",
        "numeric_summary = summary[['count', 'mean', 'std', 'min', '25%', '50%', '75%', 'max', 'median', 'mode', 'missing_values']]\n",
        "print(numeric_summary)"
      ],
      "metadata": {
        "colab": {
          "base_uri": "https://localhost:8080/"
        },
        "id": "xsiXfYj6_WK3",
        "outputId": "56ab4327-c1bb-4271-8355-a97000500561"
      },
      "execution_count": 34,
      "outputs": [
        {
          "output_type": "stream",
          "name": "stdout",
          "text": [
            "               count           mean           std     min      25%       50%  \\\n",
            "Unnamed: 0     607.0     303.000000  1.753701e+02     0.0    151.5     303.0   \n",
            "work_year      607.0    2021.405272  6.921330e-01  2020.0   2021.0    2022.0   \n",
            "salary         607.0  324000.062603  1.544357e+06  4000.0  70000.0  115000.0   \n",
            "salary_in_usd  607.0  112297.869852  7.095726e+04  2859.0  62726.0  101570.0   \n",
            "remote_ratio   607.0      70.922570  4.070913e+01     0.0     50.0     100.0   \n",
            "\n",
            "                    75%         max    median      mode  missing_values  \n",
            "Unnamed: 0        454.5       606.0     303.0       0.0               0  \n",
            "work_year        2022.0      2022.0    2022.0    2022.0               0  \n",
            "salary         165000.0  30400000.0  115000.0   80000.0               0  \n",
            "salary_in_usd  150000.0    600000.0  101570.0  100000.0               0  \n",
            "remote_ratio      100.0       100.0     100.0     100.0               0  \n"
          ]
        }
      ]
    },
    {
      "cell_type": "markdown",
      "source": [
        "\n",
        "\n",
        "---\n",
        "\n"
      ],
      "metadata": {
        "id": "USoQJNJbRecN"
      }
    },
    {
      "cell_type": "markdown",
      "source": [
        "Observações:\n",
        "\n",
        "- O dataset parece completo, sem valores faltantes, mas alguns valores podem ser discrepantes.\n",
        "\n",
        "- A coluna `salary_in_usd` contém a variável numérica de maior interesse para as análises."
      ],
      "metadata": {
        "id": "EFoW7xBPz8DC"
      }
    },
    {
      "cell_type": "markdown",
      "source": [
        "      Tipos de dados dos atributos:\n",
        "\n",
        "      `Unnamed`: int (número inteiro)\n",
        "\n",
        "      `work_year`: int (número inteiro)\n",
        "\n",
        "      `experience_level`: object (strings ou outros tipos)\n",
        "\n",
        "      `employment_type`: object (strings ou outros tipos)\n",
        "\n",
        "      `job_title`: object (strings ou outros tipos)\n",
        "\n",
        "      `salary`: int (número inteiro)\n",
        "\n",
        "      `salary_currency`: object (strings ou outros tipos)\n",
        "\n",
        "      `salary_in_usd`: int (número inteiro)\n",
        "\n",
        "      `employee_residence`: object (strings ou outros tipos)\n",
        "\n",
        "      `remote_ratio`: int (número inteiro)\n",
        "\n",
        "      `company_location`: object (strings ou outros tipos)\n",
        "\n",
        "      `company_size`: object (strings ou outros tipos)\n",
        "\n",
        "      `dtype`: object (strings ou outros tipos)"
      ],
      "metadata": {
        "id": "r9csDH3-UB8s"
      }
    },
    {
      "cell_type": "markdown",
      "source": [
        "\n",
        "\n",
        "---\n",
        "\n"
      ],
      "metadata": {
        "id": "KmAWE7cpRhLh"
      }
    },
    {
      "cell_type": "markdown",
      "source": [
        "Análise do resumo estatístico apresentado:\n",
        "    \n",
        "    1. Atributo: Unnamed: 0\n",
        "\n",
        "    Count: 607\n",
        "    Média: 303.0\n",
        "    Desvio Padrão: 175.37\n",
        "    Mínimo: 0.0\n",
        "    Máximo: 606.0\n",
        "    Mediana: 303.0\n",
        "    Moda: 0.0\n",
        "    Valores Ausentes: 0\n",
        "\n",
        "  Análise: Esse atributo parece ser um índice ou identificador, que não contribui diretamente para a análise de salários. A moda sendo 0 pode indicar que muitos registros são novos ou que a numeração é sequencial.\n",
        "\n",
        "    2. Atributo: work_year\n",
        "\n",
        "    Count: 607\n",
        "    Média: 2021.41\n",
        "    Desvio Padrão: 0.69\n",
        "    Mínimo: 2020.0\n",
        "    Máximo: 2022.0\n",
        "    Mediana: 2022.0\n",
        "    Moda: 2022.0\n",
        "    Valores Ausentes: 0\n",
        "\n",
        "  Análise: A maioria dos dados refere-se a anos recentes (2021 e 2022), com a moda indicando que 2022 é o ano mais frequente. Isso pode indicar que os dados estão mais concentrados em empregos recentes.\n",
        "\n",
        "    3. Atributo: salary\n",
        "\n",
        "    Count: 607\n",
        "    Média: 324,000.06\n",
        "    Desvio Padrão: 1,544,357.00\n",
        "    Mínimo: 4,000.0\n",
        "    Máximo: 30,400,000.0\n",
        "    Mediana: 115,000.0\n",
        "    Moda: 80,000.0\n",
        "    Valores Ausentes: 0\n",
        "\n",
        "  Análise: A média é bastante alta, mas o desvio padrão muito grande sugere a presença de outliers (salários extremamente altos). A mediana de 115,000.0 indica que metade dos salários está abaixo desse valor, mostrando que a distribuição pode ser assimétrica.\n",
        "\n",
        "    4. Atributo: salary_in_usd\n",
        "\n",
        "    Count: 607\n",
        "    Média: 112,297.87\n",
        "    Desvio Padrão: 70,957.26\n",
        "    Mínimo: 2,859.0\n",
        "    Máximo: 600,000.0\n",
        "    Mediana: 101,570.0\n",
        "    Moda: 100,000.0\n",
        "    Valores Ausentes: 0\n",
        "\n",
        "  Análise: Semelhante ao atributo salary, a média é maior que a mediana, sugerindo que existem alguns salários em dólares muito altos que estão puxando a média para cima. A moda também está próxima da mediana, indicando que 100,000.0 é um salário comum.\n",
        "\n",
        "    5. Atributo: remote_ratio\n",
        "\n",
        "    Count: 607\n",
        "    Média: 70.92\n",
        "    Desvio Padrão: 40.71\n",
        "    Mínimo: 0.0\n",
        "    Máximo: 100.0\n",
        "    Mediana: 100.0\n",
        "    Moda: 100.0\n",
        "    Valores Ausentes: 0\n",
        "\n",
        "  Análise: A média e a mediana estão próximas de 100, sugerindo que a maioria dos trabalhadores está em regime de trabalho remoto total. O desvio padrão indica alguma variação, mas a concentração em 100 é alta."
      ],
      "metadata": {
        "id": "H1nAaHTYBMRH"
      }
    },
    {
      "cell_type": "markdown",
      "source": [
        "\n",
        "\n",
        "---\n",
        "\n"
      ],
      "metadata": {
        "id": "ZO3W97n0Rjrw"
      }
    },
    {
      "cell_type": "markdown",
      "source": [
        "**Percepções da Análise**\n",
        "\n",
        "* Outliers: É importante considerar como os outliers em salary e salary_in_usd\n",
        "podem afetar análises futuras. Você pode querer investigar esses casos ou aplicar técnicas para lidar com outliers.\n",
        "\n",
        "* Análise Visual: Seria útil visualizar essas distribuições, especialmente para salary e salary_in_usd, para entender melhor a forma da distribuição e a presença de outliers.\n",
        "\n",
        "* Relações entre Variáveis: Considere explorar correlações entre salary, salary_in_usd, e remote_ratio, e como esses fatores podem variar por ano (work_year)."
      ],
      "metadata": {
        "id": "h5l-JV_wB4VI"
      }
    },
    {
      "cell_type": "markdown",
      "source": [
        "\n",
        "\n",
        "---\n",
        "\n"
      ],
      "metadata": {
        "id": "wznzoHDHRlL3"
      }
    },
    {
      "cell_type": "markdown",
      "source": [
        "##Visualizações"
      ],
      "metadata": {
        "id": "ygnHRd701R_M"
      }
    },
    {
      "cell_type": "markdown",
      "source": [
        "1. Distribuição de Atributos Numéricos"
      ],
      "metadata": {
        "id": "GSDp_MVC2PXW"
      }
    },
    {
      "cell_type": "code",
      "source": [
        "# Verificando a distribuição do salário em USD\n",
        "plt.figure(figsize=(8, 6))\n",
        "sns.histplot(df['salary_in_usd'], kde=True)\n",
        "plt.title('Distribuição dos Salários em USD')\n",
        "plt.xlabel('Salário (USD)')\n",
        "plt.ylabel('Frequência')\n",
        "plt.show()"
      ],
      "metadata": {
        "colab": {
          "base_uri": "https://localhost:8080/",
          "height": 565
        },
        "id": "fQ_YmB_w1_NH",
        "outputId": "167fcf7b-c963-4301-f18c-a9ae3aef3c2c"
      },
      "execution_count": 15,
      "outputs": [
        {
          "output_type": "display_data",
          "data": {
            "text/plain": [
              "<Figure size 800x600 with 1 Axes>"
            ],
            "image/png": "[encoded data removed]"
          },
          "metadata": {}
        }
      ]
    },
    {
      "cell_type": "markdown",
      "source": [
        "Observação:\n",
        "\n",
        "* O histograma mostra que a maioria dos salários está concentrada, o que indica\n",
        "uma distribuição assimétrica. Isso sugere a presença de outliers, que podem ser salários muito altos."
      ],
      "metadata": {
        "id": "n_SJ_vF84lkv"
      }
    },
    {
      "cell_type": "markdown",
      "source": [
        "\n",
        "\n",
        "---\n",
        "\n"
      ],
      "metadata": {
        "id": "jsHZ8UMsS-qE"
      }
    },
    {
      "cell_type": "markdown",
      "source": [
        "2. Distribuição de Atributos Categóricos"
      ],
      "metadata": {
        "id": "eGdNgAgM2Xo-"
      }
    },
    {
      "cell_type": "code",
      "source": [
        "# Verificando a distribuição dos níveis de experiência\n",
        "plt.figure(figsize=(8, 6))\n",
        "sns.countplot(x='experience_level', data=df)\n",
        "plt.title('Distribuição dos Níveis de Experiência')\n",
        "plt.xlabel('Nível de Experiência')\n",
        "plt.ylabel('Frequência')\n",
        "plt.show()"
      ],
      "metadata": {
        "colab": {
          "base_uri": "https://localhost:8080/",
          "height": 565
        },
        "id": "MhjTr2e_1Vpz",
        "outputId": "a22bf9bf-6fa0-4de2-ea9b-f2814c6c8e63"
      },
      "execution_count": 59,
      "outputs": [
        {
          "output_type": "display_data",
          "data": {
            "text/plain": [
              "<Figure size 800x600 with 1 Axes>"
            ],
            "image/png": "[encoded data removed]"
          },
          "metadata": {}
        }
      ]
    },
    {
      "cell_type": "markdown",
      "source": [
        "Observação:\n",
        "\n",
        "* A maioria dos registros estão concentrados no nível de experiência SE (Senior-level). Há uma quantidade significativamente menor de dados para Entry-level (EN) e Executive (EX)."
      ],
      "metadata": {
        "id": "9Bwfd84B5c4D"
      }
    },
    {
      "cell_type": "markdown",
      "source": [
        "\n",
        "\n",
        "---\n",
        "\n"
      ],
      "metadata": {
        "id": "oUdHEohKTAOK"
      }
    },
    {
      "cell_type": "code",
      "source": [
        "# Verificando a distribuição do tipo de emprego\n",
        "plt.figure(figsize=(8, 6))\n",
        "sns.countplot(x='employment_type', data=df)\n",
        "plt.title('Distribuição dos Tipos de Emprego')\n",
        "plt.xlabel('Tipo de Emprego')\n",
        "plt.ylabel('Frequência')\n",
        "plt.show()"
      ],
      "metadata": {
        "colab": {
          "base_uri": "https://localhost:8080/",
          "height": 564
        },
        "id": "RigBxz9w2klW",
        "outputId": "ef4acb07-91f3-4c3a-bb19-10130f743242"
      },
      "execution_count": 60,
      "outputs": [
        {
          "output_type": "display_data",
          "data": {
            "text/plain": [
              "<Figure size 800x600 with 1 Axes>"
            ],
            "image/png": "[encoded data removed]"
          },
          "metadata": {}
        }
      ]
    },
    {
      "cell_type": "markdown",
      "source": [
        "Observação:\n",
        "\n",
        "* A maioria dos registros refere-se ao tipo de emprego Full-time (FT), enquanto Part-time (PT), Contract (CT) e Freelance (FL) estão sub-representados."
      ],
      "metadata": {
        "id": "4yPnwzXd6DZs"
      }
    },
    {
      "cell_type": "markdown",
      "source": [
        "\n",
        "\n",
        "---\n",
        "\n"
      ],
      "metadata": {
        "id": "eLjNIeEETCCx"
      }
    },
    {
      "cell_type": "markdown",
      "source": [
        "3. Distribuição por País e Localização da Empresa"
      ],
      "metadata": {
        "id": "3rkC_cqv28p7"
      }
    },
    {
      "cell_type": "code",
      "source": [
        "# Verificando a distribuição do país de residência dos empregados\n",
        "plt.figure(figsize=(10, 8))\n",
        "sns.countplot(y='employee_residence', data=df, order=df['employee_residence'].value_counts().index)\n",
        "plt.title('Distribuição dos Países de Residência dos Empregados')\n",
        "plt.ylabel('País de Residência')\n",
        "plt.xlabel('Frequência')\n",
        "plt.show()"
      ],
      "metadata": {
        "colab": {
          "base_uri": "https://localhost:8080/",
          "height": 719
        },
        "id": "gA3MDQYC29gY",
        "outputId": "9e7a2149-1786-4e82-bf5e-0567df221f81"
      },
      "execution_count": 61,
      "outputs": [
        {
          "output_type": "display_data",
          "data": {
            "text/plain": [
              "<Figure size 1000x800 with 1 Axes>"
            ],
            "image/png": "[encoded data removed]"
          },
          "metadata": {}
        }
      ]
    },
    {
      "cell_type": "markdown",
      "source": [
        "Observação:\n",
        "\n",
        "* Os gráficos mostram que a maioria dos empregados está concentrada em um pequeno número de países, como os Estados Unidos e Reino Unido, com vários outros países apresentando poucos registros."
      ],
      "metadata": {
        "id": "WNyOwQdu6Y12"
      }
    },
    {
      "cell_type": "markdown",
      "source": [
        "\n",
        "\n",
        "---\n",
        "\n"
      ],
      "metadata": {
        "id": "grobu7pwTDzT"
      }
    },
    {
      "cell_type": "markdown",
      "source": [
        "4. Análise Combinada: Salário vs Nível de Experiência"
      ],
      "metadata": {
        "id": "HMf-q3ZH3Elo"
      }
    },
    {
      "cell_type": "code",
      "source": [
        "# Comparando salário com nível de experiência\n",
        "plt.figure(figsize=(8, 6))\n",
        "sns.boxplot(x='experience_level', y='salary_in_usd', data=df)\n",
        "plt.title('Distribuição de Salário por Nível de Experiência')\n",
        "plt.xlabel('Nível de Experiência')\n",
        "plt.ylabel('Salário em USD')\n",
        "plt.show()"
      ],
      "metadata": {
        "colab": {
          "base_uri": "https://localhost:8080/",
          "height": 565
        },
        "id": "EN9E8muc3FVL",
        "outputId": "3c3264d0-2630-4d5f-cf93-7bbca7000298"
      },
      "execution_count": 62,
      "outputs": [
        {
          "output_type": "display_data",
          "data": {
            "text/plain": [
              "<Figure size 800x600 with 1 Axes>"
            ],
            "image/png": "[encoded data removed]"
          },
          "metadata": {}
        }
      ]
    },
    {
      "cell_type": "markdown",
      "source": [
        "Observação:\n",
        "* O boxplot revela que, em geral, os salários aumentam com o nível de experiência, mas há uma sobreposição considerável entre os salários de Mid-level (MI) e Senior-level (SE). Existem também vários outliers, especialmente no nível Executive (EX), indicando grandes variações salariais.\n",
        "\n"
      ],
      "metadata": {
        "id": "B_ybS82o6iwL"
      }
    },
    {
      "cell_type": "markdown",
      "source": [
        "\n",
        "\n",
        "---\n",
        "\n"
      ],
      "metadata": {
        "id": "cT2l9KvZTFGM"
      }
    },
    {
      "cell_type": "markdown",
      "source": [
        "5. Análise Combinada: Salário vs Tamanho da Empresa"
      ],
      "metadata": {
        "id": "nJC5kdA-3Kjj"
      }
    },
    {
      "cell_type": "code",
      "source": [
        "# Comparando salário com o tamanho da empresa\n",
        "plt.figure(figsize=(8, 6))\n",
        "sns.boxplot(x='company_size', y='salary_in_usd', data=df)\n",
        "plt.title('Distribuição de Salário por Tamanho da Empresa')\n",
        "plt.xlabel('Tamanho da Empresa')\n",
        "plt.ylabel('Salário em USD')\n",
        "plt.show()"
      ],
      "metadata": {
        "colab": {
          "base_uri": "https://localhost:8080/",
          "height": 565
        },
        "id": "c-NRS7lj3LOr",
        "outputId": "577d9bcf-153d-4f08-c12f-d44f0fccfc6b"
      },
      "execution_count": 63,
      "outputs": [
        {
          "output_type": "display_data",
          "data": {
            "text/plain": [
              "<Figure size 800x600 with 1 Axes>"
            ],
            "image/png": "[encoded data removed]"
          },
          "metadata": {}
        }
      ]
    },
    {
      "cell_type": "markdown",
      "source": [
        "Observação:\n",
        "\n",
        "* Empresas Large (L) tendem a pagar salários significativamente mais altos em comparação com Small (S) e Medium (M). No entanto, há uma sobreposição nos salários entre empresas médias e pequenas. O boxplot também indica a presença de outliers para empresas de todos os tamanhos, especialmente nas empresas grandes."
      ],
      "metadata": {
        "id": "x2l16BWI6uVl"
      }
    },
    {
      "cell_type": "markdown",
      "source": [
        "\n",
        "\n",
        "---\n",
        "\n"
      ],
      "metadata": {
        "id": "BcfzFuGsRpKd"
      }
    },
    {
      "cell_type": "markdown",
      "source": [
        "Considerações:\n",
        "\n",
        "**Outliers**: A presença de outliers em vários atributos sugere a necessidade de remover ou tratá-los adequadamente, como por meio de técnicas de remoção ou transformação (logarítmica, por exemplo).\n",
        "\n",
        "**Balanceamento de Classes**: Muitos atributos categóricos, como experience_level e employment_type, estão desbalanceados. Para modelos preditivos, será necessário balancear essas classes para evitar que o modelo seja enviesado para as classes majoritárias.\n",
        "\n",
        "**Agrupamento de Categorias**: A reclassificação ou agrupamento de atributos categóricos, como países ou tipos de emprego, pode ajudar a reduzir o impacto de valores isolados ou sub-representados.\n",
        "\n",
        "Cada uma dessas considerações ajuda a garantir que o pré-processamento seja adequado para melhorar a qualidade dos dados e, por consequência, a performance de futuros modelos de machine learning."
      ],
      "metadata": {
        "id": "mafD-cgw3t0c"
      }
    },
    {
      "cell_type": "markdown",
      "source": [
        "\n",
        "\n",
        "---\n",
        "\n"
      ],
      "metadata": {
        "id": "QNhZPichRqO9"
      }
    },
    {
      "cell_type": "markdown",
      "source": [
        "#Pré-processamento de dados"
      ],
      "metadata": {
        "id": "i1ucQf7XCzy4"
      }
    },
    {
      "cell_type": "markdown",
      "source": [
        "Normalização | Distribuição de salários"
      ],
      "metadata": {
        "id": "o-3mNUwQF-A5"
      }
    },
    {
      "cell_type": "code",
      "source": [
        "# Visualizar a coluna original de salários\n",
        "print(\"Salários Originais:\")\n",
        "print(df['salary'].head())\n",
        "\n",
        "# Aplicar transformação logarítmica nos salários\n",
        "df['log_salary'] = np.log1p(df['salary'])\n",
        "\n",
        "# Visualizar a nova coluna de salários transformados\n",
        "print(\"\\nSalários Transformados (Logarítmicos):\")\n",
        "print(df[['salary', 'log_salary']].head())\n",
        "\n",
        "# Visualizar estatísticas descritivas da coluna de salários transformados\n",
        "print(\"\\nResumo Estatístico dos Salários Transformados:\")\n",
        "print(df['log_salary'].describe())"
      ],
      "metadata": {
        "colab": {
          "base_uri": "https://localhost:8080/"
        },
        "id": "eF2uO6UNFlQ2",
        "outputId": "e5aa44e7-5bf6-4bd5-d0c8-16a4d74e37d6"
      },
      "execution_count": 40,
      "outputs": [
        {
          "output_type": "stream",
          "name": "stdout",
          "text": [
            "Salários Originais:\n",
            "0     70000\n",
            "1    260000\n",
            "2     85000\n",
            "3     20000\n",
            "4    150000\n",
            "Name: salary, dtype: int64\n",
            "\n",
            "Salários Transformados (Logarítmicos):\n",
            "   salary  log_salary\n",
            "0   70000   11.156265\n",
            "1  260000   12.468441\n",
            "2   85000   11.350418\n",
            "3   20000    9.903538\n",
            "4  150000   11.918397\n",
            "\n",
            "Resumo Estatístico dos Salários Transformados:\n",
            "count    607.000000\n",
            "mean      11.654602\n",
            "std        1.005007\n",
            "min        8.294300\n",
            "25%       11.156265\n",
            "50%       11.652696\n",
            "75%       12.013707\n",
            "max       17.229953\n",
            "Name: log_salary, dtype: float64\n"
          ]
        }
      ]
    },
    {
      "cell_type": "markdown",
      "source": [
        "\n",
        "\n",
        "---\n",
        "\n"
      ],
      "metadata": {
        "id": "rghGu4ocRvDF"
      }
    },
    {
      "cell_type": "markdown",
      "source": [
        "Balanceamento das Classes | Nível de Experiência"
      ],
      "metadata": {
        "id": "I4dFpeo9Gvup"
      }
    },
    {
      "cell_type": "code",
      "source": [
        "# Verificar a distribuição das classes de nível de experiência antes do balanceamento\n",
        "print(\"Distribuição das classes antes do balanceamento:\")\n",
        "print(Counter(df['experience_level']))\n",
        "\n",
        "# Separar as variáveis independentes (X) e dependentes (y)\n",
        "X = df.drop('experience_level', axis=1)  # Remover a coluna de classe\n",
        "y = df['experience_level']  # Coluna de classe\n",
        "\n",
        "# Aplicar One-Hot Encoding nas variáveis categóricas\n",
        "X = pd.get_dummies(X, drop_first=True)  # Remove a primeira coluna para evitar a armadilha da variável fictícia\n",
        "\n",
        "# Aplicar SMOTE para oversampling\n",
        "smote = SMOTE(random_state=42)\n",
        "X_resampled, y_resampled = smote.fit_resample(X, y)\n",
        "\n",
        "# Criar um novo DataFrame a partir dos dados balanceados\n",
        "df_resampled = pd.DataFrame(X_resampled, columns=X.columns)\n",
        "\n",
        "# Concatenar a coluna de classes ao DataFrame balanceado\n",
        "df_resampled = pd.concat([df_resampled, pd.Series(y_resampled, name='experience_level')], axis=1)\n",
        "\n",
        "# Verificar a distribuição das classes após o balanceamento\n",
        "print(\"\\nDistribuição das classes após o balanceamento:\")\n",
        "print(Counter(df_resampled['experience_level']))"
      ],
      "metadata": {
        "colab": {
          "base_uri": "https://localhost:8080/"
        },
        "id": "hOx4RLuiGuiW",
        "outputId": "6e1da814-44cc-4357-efc2-84d64ad247b7"
      },
      "execution_count": 64,
      "outputs": [
        {
          "output_type": "stream",
          "name": "stdout",
          "text": [
            "Distribuição das classes antes do balanceamento:\n",
            "Counter({'SE': 280, 'MI': 213, 'EN': 88, 'EX': 26})\n",
            "\n",
            "Distribuição das classes após o balanceamento:\n",
            "Counter({'MI': 280, 'SE': 280, 'EN': 280, 'EX': 280})\n"
          ]
        }
      ]
    },
    {
      "cell_type": "markdown",
      "source": [
        "\n",
        "\n",
        "---\n",
        "\n"
      ],
      "metadata": {
        "id": "g5Q3KV1ARyGc"
      }
    },
    {
      "cell_type": "markdown",
      "source": [
        "Balanceamento das Classes | Tipos de Emprego"
      ],
      "metadata": {
        "id": "76i0segoI2ID"
      }
    },
    {
      "cell_type": "code",
      "source": [
        "# Verificar a distribuição das classes de tipos de emprego antes do balanceamento\n",
        "print(\"Distribuição das classes antes do balanceamento:\")\n",
        "print(Counter(df['employment_type']))  # Substitua 'employment_type' pelo nome da coluna correspondente\n",
        "\n",
        "# Separar as variáveis independentes (X) e dependentes (y)\n",
        "X = df.drop('employment_type', axis=1)  # Remover a coluna de classe\n",
        "y = df['employment_type']  # Coluna de classe\n",
        "\n",
        "# Aplicar One-Hot Encoding nas variáveis categóricas\n",
        "X = pd.get_dummies(X, drop_first=True)  # Remove a primeira coluna para evitar a armadilha da variável fictícia\n",
        "\n",
        "# Aplicar SMOTE para oversampling com k_neighbors ajustado\n",
        "smote = SMOTE(random_state=42, k_neighbors=2)  # Ajuste aqui o número de vizinhos\n",
        "X_resampled, y_resampled = smote.fit_resample(X, y)\n",
        "\n",
        "# Criar um novo DataFrame a partir dos dados balanceados\n",
        "df_resampled = pd.DataFrame(X_resampled, columns=X.columns)\n",
        "\n",
        "# Concatenar a coluna de tipos de emprego ao DataFrame balanceado\n",
        "df_resampled = pd.concat([df_resampled, pd.Series(y_resampled, name='employment_type')], axis=1)\n",
        "\n",
        "# Verificar a distribuição das classes após o balanceamento\n",
        "print(\"\\nDistribuição das classes após o balanceamento:\")\n",
        "print(Counter(df_resampled['employment_type']))"
      ],
      "metadata": {
        "colab": {
          "base_uri": "https://localhost:8080/"
        },
        "id": "sJV_xxlFIpXF",
        "outputId": "1a945833-5621-4b7b-d5d3-70715490c795"
      },
      "execution_count": 65,
      "outputs": [
        {
          "output_type": "stream",
          "name": "stdout",
          "text": [
            "Distribuição das classes antes do balanceamento:\n",
            "Counter({'FT': 588, 'PT': 10, 'CT': 5, 'FL': 4})\n",
            "\n",
            "Distribuição das classes após o balanceamento:\n",
            "Counter({'FT': 588, 'CT': 588, 'PT': 588, 'FL': 588})\n"
          ]
        }
      ]
    },
    {
      "cell_type": "markdown",
      "source": [
        "\n",
        "\n",
        "---\n",
        "\n"
      ],
      "metadata": {
        "id": "ISrMbPw7R0rU"
      }
    },
    {
      "cell_type": "markdown",
      "source": [
        "Remoção de outliers | Salários"
      ],
      "metadata": {
        "id": "hkJD6mtbKYu_"
      }
    },
    {
      "cell_type": "code",
      "source": [
        "# Definindo a coluna onde queremos detectar outliers\n",
        "column_name = 'salary'  # Altere conforme necessário\n",
        "\n",
        "# Calcular o primeiro quartil (Q1) e o terceiro quartil (Q3)\n",
        "Q1 = df[column_name].quantile(0.25)\n",
        "Q3 = df[column_name].quantile(0.75)\n",
        "\n",
        "# Calcular o intervalo interquartil (IQR)\n",
        "IQR = Q3 - Q1\n",
        "\n",
        "# Definindo limites para detectar outliers\n",
        "lower_bound = Q1 - 1.5 * IQR\n",
        "upper_bound = Q3 + 1.5 * IQR\n",
        "\n",
        "# Remover outliers\n",
        "df_no_outliers = df[(df[column_name] >= lower_bound) & (df[column_name] <= upper_bound)]\n",
        "\n",
        "# Exibir o número de linhas antes e depois da remoção de outliers\n",
        "print(\"Número de linhas antes da remoção de outliers:\", len(df))\n",
        "print(\"Número de linhas depois da remoção de outliers:\", len(df_no_outliers))"
      ],
      "metadata": {
        "colab": {
          "base_uri": "https://localhost:8080/"
        },
        "id": "nwN7CbtSKIQE",
        "outputId": "a630d3d9-441d-49e7-d2a6-6f5ac0a97c08"
      },
      "execution_count": 50,
      "outputs": [
        {
          "output_type": "stream",
          "name": "stdout",
          "text": [
            "Número de linhas antes da remoção de outliers: 607\n",
            "Número de linhas depois da remoção de outliers: 563\n"
          ]
        }
      ]
    },
    {
      "cell_type": "code",
      "source": [
        "# Visualização antes da remoção\n",
        "plt.figure(figsize=(12, 5))\n",
        "plt.subplot(1, 2, 1)\n",
        "sns.boxplot(x=df[column_name])\n",
        "plt.title('Antes da Remoção de Outliers')\n",
        "\n",
        "# Visualização depois da remoção\n",
        "plt.subplot(1, 2, 2)\n",
        "sns.boxplot(x=df_no_outliers[column_name])\n",
        "plt.title('Depois da Remoção de Outliers')\n",
        "\n",
        "plt.show()"
      ],
      "metadata": {
        "colab": {
          "base_uri": "https://localhost:8080/",
          "height": 487
        },
        "id": "3lxihEOYKTSq",
        "outputId": "e12f2e98-7cc2-4995-b22f-4fbb4fdb1e26"
      },
      "execution_count": 51,
      "outputs": [
        {
          "output_type": "display_data",
          "data": {
            "text/plain": [
              "<Figure size 1200x500 with 2 Axes>"
            ],
            "image/png": "[encoded data removed]"
          },
          "metadata": {}
        }
      ]
    },
    {
      "cell_type": "markdown",
      "source": [
        "\n",
        "\n",
        "---\n",
        "\n"
      ],
      "metadata": {
        "id": "g8-OwDAYR4Z_"
      }
    },
    {
      "cell_type": "markdown",
      "source": [
        "Remoção de Outliers | Nível de Experiência"
      ],
      "metadata": {
        "id": "_gFiFCuNMdF5"
      }
    },
    {
      "cell_type": "code",
      "source": [
        "# Definir a coluna para verificar outliers\n",
        "experience_column = 'experience_level'\n",
        "\n",
        "# Contar a frequência de cada categoria\n",
        "experience_counts = df[experience_column].value_counts()\n",
        "\n",
        "# Exibir as contagens de cada categoria\n",
        "print(f\"Contagens para {experience_column}:\")\n",
        "print(experience_counts)\n",
        "\n",
        "# Definir um limite para considerar uma categoria como outlier\n",
        "experience_threshold = 90\n",
        "\n",
        "# Filtrar categorias com contagem maior que o limite\n",
        "valid_experience_categories = experience_counts[experience_counts >= experience_threshold].index\n",
        "df_experience_cleaned = df[df[experience_column].isin(valid_experience_categories)]\n",
        "\n",
        "# Exibir o número de linhas após a remoção de outliers\n",
        "print(\"Número de linhas após a remoção de outliers em níveis de experiência:\", len(df_experience_cleaned))\n",
        "\n",
        "# Visualizar a distribuição de níveis de experiência após a remoção\n",
        "import seaborn as sns\n",
        "import matplotlib.pyplot as plt\n",
        "\n",
        "plt.figure(figsize=(6, 4))\n",
        "sns.countplot(x=experience_column, data=df_experience_cleaned)\n",
        "plt.title('Distribuição de Níveis de Experiência Após Remoção de Outliers')\n",
        "plt.show()"
      ],
      "metadata": {
        "colab": {
          "base_uri": "https://localhost:8080/",
          "height": 547
        },
        "id": "7q0_LvSMMjVs",
        "outputId": "39617d08-823e-49b9-9b53-f03e6456dfd8"
      },
      "execution_count": 55,
      "outputs": [
        {
          "output_type": "stream",
          "name": "stdout",
          "text": [
            "Contagens para experience_level:\n",
            "experience_level\n",
            "SE    280\n",
            "MI    213\n",
            "EN     88\n",
            "EX     26\n",
            "Name: count, dtype: int64\n",
            "Número de linhas após a remoção de outliers em níveis de experiência: 493\n"
          ]
        },
        {
          "output_type": "display_data",
          "data": {
            "text/plain": [
              "<Figure size 600x400 with 1 Axes>"
            ],
            "image/png": "[encoded data removed]"
          },
          "metadata": {}
        }
      ]
    },
    {
      "cell_type": "markdown",
      "source": [
        "\n",
        "\n",
        "---\n",
        "\n"
      ],
      "metadata": {
        "id": "AXfEAc5MR6H6"
      }
    },
    {
      "cell_type": "markdown",
      "source": [
        "Remoção de Outliers | Tamanho da Empresa"
      ],
      "metadata": {
        "id": "Ep2m_xdaN2My"
      }
    },
    {
      "cell_type": "code",
      "source": [
        "# Definir a coluna para verificar outliers\n",
        "company_column = 'company_size'\n",
        "\n",
        "# Contar a frequência de cada categoria\n",
        "company_counts = df[company_column].value_counts()\n",
        "\n",
        "# Exibir as contagens de cada categoria\n",
        "print(f\"Contagens para {company_column}:\")\n",
        "print(company_counts)\n",
        "\n",
        "# Definir um limite para considerar uma categoria como outlier\n",
        "company_threshold = 100\n",
        "\n",
        "# Filtrar categorias com contagem maior que o limite\n",
        "valid_company_categories = company_counts[company_counts >= company_threshold].index\n",
        "df_company_cleaned = df[df[company_column].isin(valid_company_categories)]\n",
        "\n",
        "# Exibir o número de linhas após a remoção de outliers\n",
        "print(\"Número de linhas após a remoção de outliers em tamanhos de empresa:\", len(df_company_cleaned))\n",
        "\n",
        "# Visualizar a distribuição de tamanhos de empresa após a remoção\n",
        "plt.figure(figsize=(6, 4))\n",
        "sns.countplot(x=company_column, data=df_company_cleaned)\n",
        "plt.title('Distribuição de Tamanhos de Empresa Após Remoção de Outliers')\n",
        "plt.show()"
      ],
      "metadata": {
        "colab": {
          "base_uri": "https://localhost:8080/",
          "height": 530
        },
        "id": "Xia4AAJNNESR",
        "outputId": "3de6a68e-068a-4636-9859-ad0f9435a7e1"
      },
      "execution_count": 56,
      "outputs": [
        {
          "output_type": "stream",
          "name": "stdout",
          "text": [
            "Contagens para company_size:\n",
            "company_size\n",
            "M    326\n",
            "L    198\n",
            "S     83\n",
            "Name: count, dtype: int64\n",
            "Número de linhas após a remoção de outliers em tamanhos de empresa: 524\n"
          ]
        },
        {
          "output_type": "display_data",
          "data": {
            "text/plain": [
              "<Figure size 600x400 with 1 Axes>"
            ],
            "image/png": "[encoded data removed]"
          },
          "metadata": {}
        }
      ]
    },
    {
      "cell_type": "markdown",
      "source": [
        "\n",
        "\n",
        "---\n",
        "\n"
      ],
      "metadata": {
        "id": "8tacPBQlR7zk"
      }
    },
    {
      "cell_type": "markdown",
      "source": [
        "# Conclusão"
      ],
      "metadata": {
        "id": "3ZMNF8IZEHSe"
      }
    },
    {
      "cell_type": "markdown",
      "source": [
        "A análise do dataset \"Data Science Job Salaries\" proporcionou uma visão abrangente sobre os salários, níveis de experiência e outros fatores que influenciam as remunerações de profissionais de ciência de dados.\n",
        "\n",
        "As principais descobertas com os dados analisados:\n",
        "\n",
        "    1. Distribuição de Salários\n",
        "\n",
        "  A análise inicial da distribuição salarial revelou uma concentração significativa de salários, indicando que muitos profissionais de ciência de dados estão em níveis de remuneração mais baixos, enquanto uma minoria recebe salários muito altos. Essa assimetria sugere a presença de outliers, que podem impactar modelos preditivos.\n",
        "\n",
        "A transformação logarítmica dos salários foi uma forma de normalizar a distribuição, tornando-a mais adequada para análise estatística e modelagem.\n",
        "\n",
        "    2. Nível de Experiência\n",
        "\n",
        "A distribuição dos níveis de experiência mostrou que a maioria dos profissionais se encontra no nível de Senior (SE), enquanto os níveis Entry (EN) e Executive (EX) estavam sub-representados. Isso pode indicar uma tendência do mercado de trabalho, onde posições sêniores são mais comuns.\n",
        "\n",
        "O balanceamento das classes foi identificado como um aspecto crucial para qualquer modelagem preditiva que considere o nível de experiência, dado que a maioria dos dados pertence a uma única classe. Portanto foi realizado o balancemanto usando One-Hot-Encoding.\n",
        "\n",
        "    3. Tipos de Emprego\n",
        "\n",
        "Os tipos de emprego mostraram uma predominância de posições Full-time (FT), o que pode ser um indicativo das preferências do mercado ou da natureza do trabalho em ciência de dados.\n",
        "\n",
        "Novamente, o desbalanceamento das classes foi tratado usando One-Hot-Encoding.\n",
        "\n",
        "    4. Influência do Tamanho da Empresa e Localização\n",
        "\n",
        "Os salários médios variaram significativamente com o tamanho da empresa, com as grandes empresas oferecendo remunerações mais elevadas. Isso destaca a importância do contexto organizacional na determinação dos salários.\n",
        "\n",
        "A análise geográfica revelou uma concentração de empregos em países desenvolvidos, como os Estados Unidos e o Reino Unido, refletindo o mercado global de ciência de dados e suas desigualdades.\n",
        "\n",
        "    5. Análise de Outliers\n",
        "\n",
        "A presença de outliers foi evidente em várias análises, especialmente nas categorias de experiência e tamanho da empresa. A remoção ou tratamento adequado desses valores pode ser necessário para garantir a precisão dos modelos preditivos.\n",
        "\n",
        "A remoção dos outliers de variáveis numéricas foi realizada usando o Intervalo Interquartil (IQR).\n",
        "\n",
        "O IQR é a diferença entre o primeiro quartil (Q1) e o terceiro quartil (Q3). Os valores que estão abaixo de Q1 − 1.5 × IQR ou acima de Q3 + 1.5 × IQR são considerados outliers e podem ser removidos.\n",
        "\n",
        "**Apenas à título de curiosidade, fiz a remoção de \"outliers\" das variáveis categóricas `experience_level` e `company_size` usando uma abordagem de contagem, que remove as categorias que têm um número pequeno de ocorrências.**\n",
        "\n",
        "**Após visualização dos gráficos e análise dos números apresentados, percebi que essa remoção não se faz necessária, devido o número pequeno de variações dentro dessas categorias, mas optei por deixar esses códigos no documento e incluir essa observação**"
      ],
      "metadata": {
        "id": "Yu_0iiGiEMrI"
      }
    }
  ]
}